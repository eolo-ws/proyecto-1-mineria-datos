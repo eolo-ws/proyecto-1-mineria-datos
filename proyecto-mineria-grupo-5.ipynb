{
 "cells": [
  {
   "cell_type": "code",
   "execution_count": null,
   "metadata": {},
   "outputs": [],
   "source": [
    "import pandas\n",
    "import numpy\n",
    "\n",
    "#hola jaime"
   ]
  }
 ],
 "metadata": {
  "kernelspec": {
   "display_name": "Python 3.9.2 64-bit",
   "language": "python",
   "name": "python3"
  },
  "language_info": {
   "name": "python",
   "version": "3.9.2"
  },
  "orig_nbformat": 4,
  "vscode": {
   "interpreter": {
    "hash": "19bea728ebfbcda5dcde7dd88f839cae5267f6814939d7595879f90567282a06"
   }
  }
 },
 "nbformat": 4,
 "nbformat_minor": 2
}
